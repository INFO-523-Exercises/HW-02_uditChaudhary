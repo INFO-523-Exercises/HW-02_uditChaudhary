{
  "nbformat": 4,
  "nbformat_minor": 0,
  "metadata": {
    "colab": {
      "provenance": [],
      "authorship_tag": "ABX9TyM+6y65Jp4CduVNMVcVpc9z"
    },
    "kernelspec": {
      "name": "python3",
      "display_name": "Python 3"
    },
    "language_info": {
      "name": "python"
    }
  },
  "cells": [
    {
      "cell_type": "markdown",
      "source": [
        "------------------------------------------------\n",
        "###Title: HW 4: Regression in Python\n",
        "###Author: Udit Chaudhary\n",
        "###Date: 2023-10-20(YYYY_MM_DD)\n",
        "------------------------------------------------"
      ],
      "metadata": {
        "id": "XtD1coucRIc4"
      }
    },
    {
      "cell_type": "markdown",
      "source": [
        "##Regression in Python"
      ],
      "metadata": {
        "id": "RSfoUtsnRQry"
      }
    },
    {
      "cell_type": "markdown",
      "source": [
        "In Python, regression serves as a predictive modeling method dedicated to anticipating quantitative target attributes. This assignment takes a hands-on approach, showcasing diverse regression techniques within the scikit-learn library. It addresses the issue of model overfitting arising from correlated data attributes, stressing the need to grasp and address this challenge. The assignment further explores the utilization of regularization techniques as a vital strategy to counteract overfitting, offering a thorough exploration of methods to enhance the precision and dependability of regression models."
      ],
      "metadata": {
        "id": "Be2PJ3TUUIns"
      }
    },
    {
      "cell_type": "markdown",
      "source": [
        "###Load Dataset"
      ],
      "metadata": {
        "id": "GVA-kOCFUhbc"
      }
    },
    {
      "cell_type": "markdown",
      "source": [
        "Using pandas, read the Tornados dataset and save it in the data variable."
      ],
      "metadata": {
        "id": "-aMhtNCeUuF3"
      }
    },
    {
      "cell_type": "code",
      "execution_count": 3,
      "metadata": {
        "colab": {
          "base_uri": "https://localhost:8080/",
          "height": 617
        },
        "id": "hbbfXTgaQpgR",
        "outputId": "732dba22-e19f-422b-83b5-4fb1021a6295"
      },
      "outputs": [
        {
          "output_type": "execute_result",
          "data": {
            "text/plain": [
              "           om    yr  mo  dy        date      time               tz  \\\n",
              "0         192  1950  10   1  1950-10-01  21:00:00  America/Chicago   \n",
              "1         193  1950  10   9  1950-10-09  02:15:00  America/Chicago   \n",
              "2         195  1950  11  20  1950-11-20  02:20:00  America/Chicago   \n",
              "3         196  1950  11  20  1950-11-20  04:00:00  America/Chicago   \n",
              "4         197  1950  11  20  1950-11-20  07:30:00  America/Chicago   \n",
              "...       ...   ...  ..  ..         ...       ...              ...   \n",
              "68688  621922  2022   9  28  2022-09-28  13:32:00  America/Chicago   \n",
              "68689  621923  2022   9  30  2022-09-30  10:25:00  America/Chicago   \n",
              "68690  621924  2022   9  30  2022-09-30  13:22:00  America/Chicago   \n",
              "68691  621900  2022   9   4  2022-09-04  15:44:00  America/Chicago   \n",
              "68692  621901  2022   9   9  2022-09-09  23:21:00  America/Chicago   \n",
              "\n",
              "               datetime_utc  st  stf  ...      elon    len  wid  ns  sn   f1  \\\n",
              "0      1950-10-02T03:00:00Z  OK   40  ... -102.3000  15.80   10   1   1   25   \n",
              "1      1950-10-09T08:15:00Z  NC   37  ...    0.0000   2.00  880   1   1   47   \n",
              "2      1950-11-20T08:20:00Z  KY   21  ...    0.0000   0.10   10   1   1  177   \n",
              "3      1950-11-20T10:00:00Z  KY   21  ...    0.0000   0.10   10   1   1  209   \n",
              "4      1950-11-20T13:30:00Z  MS   28  ...    0.0000   2.00   37   1   1  101   \n",
              "...                     ...  ..  ...  ...       ...    ...  ...  ..  ..  ...   \n",
              "68688  2022-09-28T18:32:00Z  FL   12  ...  -80.8841   3.00  100   1   1    9   \n",
              "68689  2022-09-30T15:25:00Z  NC   37  ...  -78.3011   0.74   20   1   1   19   \n",
              "68690  2022-09-30T18:22:00Z  NC   37  ...  -76.7147   0.70   12   1   1   13   \n",
              "68691  2022-09-04T20:44:00Z  OH   39  ...  -80.6555   0.07   15   1   1   99   \n",
              "68692  2022-09-10T04:21:00Z  SC   45  ...  -79.7537   0.68  125   1   1   19   \n",
              "\n",
              "       f2  f3  f4     fc  \n",
              "0       0   0   0  False  \n",
              "1       0   0   0  False  \n",
              "2       0   0   0  False  \n",
              "3       0   0   0  False  \n",
              "4       0   0   0  False  \n",
              "...    ..  ..  ..    ...  \n",
              "68688   0   0   0  False  \n",
              "68689   0   0   0  False  \n",
              "68690   0   0   0  False  \n",
              "68691   0   0   0  False  \n",
              "68692   0   0   0  False  \n",
              "\n",
              "[68693 rows x 27 columns]"
            ],
            "text/html": [
              "\n",
              "  <div id=\"df-4b1c1d25-d959-49ef-babb-ec150f863ee2\" class=\"colab-df-container\">\n",
              "    <div>\n",
              "<style scoped>\n",
              "    .dataframe tbody tr th:only-of-type {\n",
              "        vertical-align: middle;\n",
              "    }\n",
              "\n",
              "    .dataframe tbody tr th {\n",
              "        vertical-align: top;\n",
              "    }\n",
              "\n",
              "    .dataframe thead th {\n",
              "        text-align: right;\n",
              "    }\n",
              "</style>\n",
              "<table border=\"1\" class=\"dataframe\">\n",
              "  <thead>\n",
              "    <tr style=\"text-align: right;\">\n",
              "      <th></th>\n",
              "      <th>om</th>\n",
              "      <th>yr</th>\n",
              "      <th>mo</th>\n",
              "      <th>dy</th>\n",
              "      <th>date</th>\n",
              "      <th>time</th>\n",
              "      <th>tz</th>\n",
              "      <th>datetime_utc</th>\n",
              "      <th>st</th>\n",
              "      <th>stf</th>\n",
              "      <th>...</th>\n",
              "      <th>elon</th>\n",
              "      <th>len</th>\n",
              "      <th>wid</th>\n",
              "      <th>ns</th>\n",
              "      <th>sn</th>\n",
              "      <th>f1</th>\n",
              "      <th>f2</th>\n",
              "      <th>f3</th>\n",
              "      <th>f4</th>\n",
              "      <th>fc</th>\n",
              "    </tr>\n",
              "  </thead>\n",
              "  <tbody>\n",
              "    <tr>\n",
              "      <th>0</th>\n",
              "      <td>192</td>\n",
              "      <td>1950</td>\n",
              "      <td>10</td>\n",
              "      <td>1</td>\n",
              "      <td>1950-10-01</td>\n",
              "      <td>21:00:00</td>\n",
              "      <td>America/Chicago</td>\n",
              "      <td>1950-10-02T03:00:00Z</td>\n",
              "      <td>OK</td>\n",
              "      <td>40</td>\n",
              "      <td>...</td>\n",
              "      <td>-102.3000</td>\n",
              "      <td>15.80</td>\n",
              "      <td>10</td>\n",
              "      <td>1</td>\n",
              "      <td>1</td>\n",
              "      <td>25</td>\n",
              "      <td>0</td>\n",
              "      <td>0</td>\n",
              "      <td>0</td>\n",
              "      <td>False</td>\n",
              "    </tr>\n",
              "    <tr>\n",
              "      <th>1</th>\n",
              "      <td>193</td>\n",
              "      <td>1950</td>\n",
              "      <td>10</td>\n",
              "      <td>9</td>\n",
              "      <td>1950-10-09</td>\n",
              "      <td>02:15:00</td>\n",
              "      <td>America/Chicago</td>\n",
              "      <td>1950-10-09T08:15:00Z</td>\n",
              "      <td>NC</td>\n",
              "      <td>37</td>\n",
              "      <td>...</td>\n",
              "      <td>0.0000</td>\n",
              "      <td>2.00</td>\n",
              "      <td>880</td>\n",
              "      <td>1</td>\n",
              "      <td>1</td>\n",
              "      <td>47</td>\n",
              "      <td>0</td>\n",
              "      <td>0</td>\n",
              "      <td>0</td>\n",
              "      <td>False</td>\n",
              "    </tr>\n",
              "    <tr>\n",
              "      <th>2</th>\n",
              "      <td>195</td>\n",
              "      <td>1950</td>\n",
              "      <td>11</td>\n",
              "      <td>20</td>\n",
              "      <td>1950-11-20</td>\n",
              "      <td>02:20:00</td>\n",
              "      <td>America/Chicago</td>\n",
              "      <td>1950-11-20T08:20:00Z</td>\n",
              "      <td>KY</td>\n",
              "      <td>21</td>\n",
              "      <td>...</td>\n",
              "      <td>0.0000</td>\n",
              "      <td>0.10</td>\n",
              "      <td>10</td>\n",
              "      <td>1</td>\n",
              "      <td>1</td>\n",
              "      <td>177</td>\n",
              "      <td>0</td>\n",
              "      <td>0</td>\n",
              "      <td>0</td>\n",
              "      <td>False</td>\n",
              "    </tr>\n",
              "    <tr>\n",
              "      <th>3</th>\n",
              "      <td>196</td>\n",
              "      <td>1950</td>\n",
              "      <td>11</td>\n",
              "      <td>20</td>\n",
              "      <td>1950-11-20</td>\n",
              "      <td>04:00:00</td>\n",
              "      <td>America/Chicago</td>\n",
              "      <td>1950-11-20T10:00:00Z</td>\n",
              "      <td>KY</td>\n",
              "      <td>21</td>\n",
              "      <td>...</td>\n",
              "      <td>0.0000</td>\n",
              "      <td>0.10</td>\n",
              "      <td>10</td>\n",
              "      <td>1</td>\n",
              "      <td>1</td>\n",
              "      <td>209</td>\n",
              "      <td>0</td>\n",
              "      <td>0</td>\n",
              "      <td>0</td>\n",
              "      <td>False</td>\n",
              "    </tr>\n",
              "    <tr>\n",
              "      <th>4</th>\n",
              "      <td>197</td>\n",
              "      <td>1950</td>\n",
              "      <td>11</td>\n",
              "      <td>20</td>\n",
              "      <td>1950-11-20</td>\n",
              "      <td>07:30:00</td>\n",
              "      <td>America/Chicago</td>\n",
              "      <td>1950-11-20T13:30:00Z</td>\n",
              "      <td>MS</td>\n",
              "      <td>28</td>\n",
              "      <td>...</td>\n",
              "      <td>0.0000</td>\n",
              "      <td>2.00</td>\n",
              "      <td>37</td>\n",
              "      <td>1</td>\n",
              "      <td>1</td>\n",
              "      <td>101</td>\n",
              "      <td>0</td>\n",
              "      <td>0</td>\n",
              "      <td>0</td>\n",
              "      <td>False</td>\n",
              "    </tr>\n",
              "    <tr>\n",
              "      <th>...</th>\n",
              "      <td>...</td>\n",
              "      <td>...</td>\n",
              "      <td>...</td>\n",
              "      <td>...</td>\n",
              "      <td>...</td>\n",
              "      <td>...</td>\n",
              "      <td>...</td>\n",
              "      <td>...</td>\n",
              "      <td>...</td>\n",
              "      <td>...</td>\n",
              "      <td>...</td>\n",
              "      <td>...</td>\n",
              "      <td>...</td>\n",
              "      <td>...</td>\n",
              "      <td>...</td>\n",
              "      <td>...</td>\n",
              "      <td>...</td>\n",
              "      <td>...</td>\n",
              "      <td>...</td>\n",
              "      <td>...</td>\n",
              "      <td>...</td>\n",
              "    </tr>\n",
              "    <tr>\n",
              "      <th>68688</th>\n",
              "      <td>621922</td>\n",
              "      <td>2022</td>\n",
              "      <td>9</td>\n",
              "      <td>28</td>\n",
              "      <td>2022-09-28</td>\n",
              "      <td>13:32:00</td>\n",
              "      <td>America/Chicago</td>\n",
              "      <td>2022-09-28T18:32:00Z</td>\n",
              "      <td>FL</td>\n",
              "      <td>12</td>\n",
              "      <td>...</td>\n",
              "      <td>-80.8841</td>\n",
              "      <td>3.00</td>\n",
              "      <td>100</td>\n",
              "      <td>1</td>\n",
              "      <td>1</td>\n",
              "      <td>9</td>\n",
              "      <td>0</td>\n",
              "      <td>0</td>\n",
              "      <td>0</td>\n",
              "      <td>False</td>\n",
              "    </tr>\n",
              "    <tr>\n",
              "      <th>68689</th>\n",
              "      <td>621923</td>\n",
              "      <td>2022</td>\n",
              "      <td>9</td>\n",
              "      <td>30</td>\n",
              "      <td>2022-09-30</td>\n",
              "      <td>10:25:00</td>\n",
              "      <td>America/Chicago</td>\n",
              "      <td>2022-09-30T15:25:00Z</td>\n",
              "      <td>NC</td>\n",
              "      <td>37</td>\n",
              "      <td>...</td>\n",
              "      <td>-78.3011</td>\n",
              "      <td>0.74</td>\n",
              "      <td>20</td>\n",
              "      <td>1</td>\n",
              "      <td>1</td>\n",
              "      <td>19</td>\n",
              "      <td>0</td>\n",
              "      <td>0</td>\n",
              "      <td>0</td>\n",
              "      <td>False</td>\n",
              "    </tr>\n",
              "    <tr>\n",
              "      <th>68690</th>\n",
              "      <td>621924</td>\n",
              "      <td>2022</td>\n",
              "      <td>9</td>\n",
              "      <td>30</td>\n",
              "      <td>2022-09-30</td>\n",
              "      <td>13:22:00</td>\n",
              "      <td>America/Chicago</td>\n",
              "      <td>2022-09-30T18:22:00Z</td>\n",
              "      <td>NC</td>\n",
              "      <td>37</td>\n",
              "      <td>...</td>\n",
              "      <td>-76.7147</td>\n",
              "      <td>0.70</td>\n",
              "      <td>12</td>\n",
              "      <td>1</td>\n",
              "      <td>1</td>\n",
              "      <td>13</td>\n",
              "      <td>0</td>\n",
              "      <td>0</td>\n",
              "      <td>0</td>\n",
              "      <td>False</td>\n",
              "    </tr>\n",
              "    <tr>\n",
              "      <th>68691</th>\n",
              "      <td>621900</td>\n",
              "      <td>2022</td>\n",
              "      <td>9</td>\n",
              "      <td>4</td>\n",
              "      <td>2022-09-04</td>\n",
              "      <td>15:44:00</td>\n",
              "      <td>America/Chicago</td>\n",
              "      <td>2022-09-04T20:44:00Z</td>\n",
              "      <td>OH</td>\n",
              "      <td>39</td>\n",
              "      <td>...</td>\n",
              "      <td>-80.6555</td>\n",
              "      <td>0.07</td>\n",
              "      <td>15</td>\n",
              "      <td>1</td>\n",
              "      <td>1</td>\n",
              "      <td>99</td>\n",
              "      <td>0</td>\n",
              "      <td>0</td>\n",
              "      <td>0</td>\n",
              "      <td>False</td>\n",
              "    </tr>\n",
              "    <tr>\n",
              "      <th>68692</th>\n",
              "      <td>621901</td>\n",
              "      <td>2022</td>\n",
              "      <td>9</td>\n",
              "      <td>9</td>\n",
              "      <td>2022-09-09</td>\n",
              "      <td>23:21:00</td>\n",
              "      <td>America/Chicago</td>\n",
              "      <td>2022-09-10T04:21:00Z</td>\n",
              "      <td>SC</td>\n",
              "      <td>45</td>\n",
              "      <td>...</td>\n",
              "      <td>-79.7537</td>\n",
              "      <td>0.68</td>\n",
              "      <td>125</td>\n",
              "      <td>1</td>\n",
              "      <td>1</td>\n",
              "      <td>19</td>\n",
              "      <td>0</td>\n",
              "      <td>0</td>\n",
              "      <td>0</td>\n",
              "      <td>False</td>\n",
              "    </tr>\n",
              "  </tbody>\n",
              "</table>\n",
              "<p>68693 rows × 27 columns</p>\n",
              "</div>\n",
              "    <div class=\"colab-df-buttons\">\n",
              "\n",
              "  <div class=\"colab-df-container\">\n",
              "    <button class=\"colab-df-convert\" onclick=\"convertToInteractive('df-4b1c1d25-d959-49ef-babb-ec150f863ee2')\"\n",
              "            title=\"Convert this dataframe to an interactive table.\"\n",
              "            style=\"display:none;\">\n",
              "\n",
              "  <svg xmlns=\"http://www.w3.org/2000/svg\" height=\"24px\" viewBox=\"0 -960 960 960\">\n",
              "    <path d=\"M120-120v-720h720v720H120Zm60-500h600v-160H180v160Zm220 220h160v-160H400v160Zm0 220h160v-160H400v160ZM180-400h160v-160H180v160Zm440 0h160v-160H620v160ZM180-180h160v-160H180v160Zm440 0h160v-160H620v160Z\"/>\n",
              "  </svg>\n",
              "    </button>\n",
              "\n",
              "  <style>\n",
              "    .colab-df-container {\n",
              "      display:flex;\n",
              "      gap: 12px;\n",
              "    }\n",
              "\n",
              "    .colab-df-convert {\n",
              "      background-color: #E8F0FE;\n",
              "      border: none;\n",
              "      border-radius: 50%;\n",
              "      cursor: pointer;\n",
              "      display: none;\n",
              "      fill: #1967D2;\n",
              "      height: 32px;\n",
              "      padding: 0 0 0 0;\n",
              "      width: 32px;\n",
              "    }\n",
              "\n",
              "    .colab-df-convert:hover {\n",
              "      background-color: #E2EBFA;\n",
              "      box-shadow: 0px 1px 2px rgba(60, 64, 67, 0.3), 0px 1px 3px 1px rgba(60, 64, 67, 0.15);\n",
              "      fill: #174EA6;\n",
              "    }\n",
              "\n",
              "    .colab-df-buttons div {\n",
              "      margin-bottom: 4px;\n",
              "    }\n",
              "\n",
              "    [theme=dark] .colab-df-convert {\n",
              "      background-color: #3B4455;\n",
              "      fill: #D2E3FC;\n",
              "    }\n",
              "\n",
              "    [theme=dark] .colab-df-convert:hover {\n",
              "      background-color: #434B5C;\n",
              "      box-shadow: 0px 1px 3px 1px rgba(0, 0, 0, 0.15);\n",
              "      filter: drop-shadow(0px 1px 2px rgba(0, 0, 0, 0.3));\n",
              "      fill: #FFFFFF;\n",
              "    }\n",
              "  </style>\n",
              "\n",
              "    <script>\n",
              "      const buttonEl =\n",
              "        document.querySelector('#df-4b1c1d25-d959-49ef-babb-ec150f863ee2 button.colab-df-convert');\n",
              "      buttonEl.style.display =\n",
              "        google.colab.kernel.accessAllowed ? 'block' : 'none';\n",
              "\n",
              "      async function convertToInteractive(key) {\n",
              "        const element = document.querySelector('#df-4b1c1d25-d959-49ef-babb-ec150f863ee2');\n",
              "        const dataTable =\n",
              "          await google.colab.kernel.invokeFunction('convertToInteractive',\n",
              "                                                    [key], {});\n",
              "        if (!dataTable) return;\n",
              "\n",
              "        const docLinkHtml = 'Like what you see? Visit the ' +\n",
              "          '<a target=\"_blank\" href=https://colab.research.google.com/notebooks/data_table.ipynb>data table notebook</a>'\n",
              "          + ' to learn more about interactive tables.';\n",
              "        element.innerHTML = '';\n",
              "        dataTable['output_type'] = 'display_data';\n",
              "        await google.colab.output.renderOutput(dataTable, element);\n",
              "        const docLink = document.createElement('div');\n",
              "        docLink.innerHTML = docLinkHtml;\n",
              "        element.appendChild(docLink);\n",
              "      }\n",
              "    </script>\n",
              "  </div>\n",
              "\n",
              "\n",
              "<div id=\"df-c3911ef7-e9fb-4313-b04d-626467135278\">\n",
              "  <button class=\"colab-df-quickchart\" onclick=\"quickchart('df-c3911ef7-e9fb-4313-b04d-626467135278')\"\n",
              "            title=\"Suggest charts\"\n",
              "            style=\"display:none;\">\n",
              "\n",
              "<svg xmlns=\"http://www.w3.org/2000/svg\" height=\"24px\"viewBox=\"0 0 24 24\"\n",
              "     width=\"24px\">\n",
              "    <g>\n",
              "        <path d=\"M19 3H5c-1.1 0-2 .9-2 2v14c0 1.1.9 2 2 2h14c1.1 0 2-.9 2-2V5c0-1.1-.9-2-2-2zM9 17H7v-7h2v7zm4 0h-2V7h2v10zm4 0h-2v-4h2v4z\"/>\n",
              "    </g>\n",
              "</svg>\n",
              "  </button>\n",
              "\n",
              "<style>\n",
              "  .colab-df-quickchart {\n",
              "      --bg-color: #E8F0FE;\n",
              "      --fill-color: #1967D2;\n",
              "      --hover-bg-color: #E2EBFA;\n",
              "      --hover-fill-color: #174EA6;\n",
              "      --disabled-fill-color: #AAA;\n",
              "      --disabled-bg-color: #DDD;\n",
              "  }\n",
              "\n",
              "  [theme=dark] .colab-df-quickchart {\n",
              "      --bg-color: #3B4455;\n",
              "      --fill-color: #D2E3FC;\n",
              "      --hover-bg-color: #434B5C;\n",
              "      --hover-fill-color: #FFFFFF;\n",
              "      --disabled-bg-color: #3B4455;\n",
              "      --disabled-fill-color: #666;\n",
              "  }\n",
              "\n",
              "  .colab-df-quickchart {\n",
              "    background-color: var(--bg-color);\n",
              "    border: none;\n",
              "    border-radius: 50%;\n",
              "    cursor: pointer;\n",
              "    display: none;\n",
              "    fill: var(--fill-color);\n",
              "    height: 32px;\n",
              "    padding: 0;\n",
              "    width: 32px;\n",
              "  }\n",
              "\n",
              "  .colab-df-quickchart:hover {\n",
              "    background-color: var(--hover-bg-color);\n",
              "    box-shadow: 0 1px 2px rgba(60, 64, 67, 0.3), 0 1px 3px 1px rgba(60, 64, 67, 0.15);\n",
              "    fill: var(--button-hover-fill-color);\n",
              "  }\n",
              "\n",
              "  .colab-df-quickchart-complete:disabled,\n",
              "  .colab-df-quickchart-complete:disabled:hover {\n",
              "    background-color: var(--disabled-bg-color);\n",
              "    fill: var(--disabled-fill-color);\n",
              "    box-shadow: none;\n",
              "  }\n",
              "\n",
              "  .colab-df-spinner {\n",
              "    border: 2px solid var(--fill-color);\n",
              "    border-color: transparent;\n",
              "    border-bottom-color: var(--fill-color);\n",
              "    animation:\n",
              "      spin 1s steps(1) infinite;\n",
              "  }\n",
              "\n",
              "  @keyframes spin {\n",
              "    0% {\n",
              "      border-color: transparent;\n",
              "      border-bottom-color: var(--fill-color);\n",
              "      border-left-color: var(--fill-color);\n",
              "    }\n",
              "    20% {\n",
              "      border-color: transparent;\n",
              "      border-left-color: var(--fill-color);\n",
              "      border-top-color: var(--fill-color);\n",
              "    }\n",
              "    30% {\n",
              "      border-color: transparent;\n",
              "      border-left-color: var(--fill-color);\n",
              "      border-top-color: var(--fill-color);\n",
              "      border-right-color: var(--fill-color);\n",
              "    }\n",
              "    40% {\n",
              "      border-color: transparent;\n",
              "      border-right-color: var(--fill-color);\n",
              "      border-top-color: var(--fill-color);\n",
              "    }\n",
              "    60% {\n",
              "      border-color: transparent;\n",
              "      border-right-color: var(--fill-color);\n",
              "    }\n",
              "    80% {\n",
              "      border-color: transparent;\n",
              "      border-right-color: var(--fill-color);\n",
              "      border-bottom-color: var(--fill-color);\n",
              "    }\n",
              "    90% {\n",
              "      border-color: transparent;\n",
              "      border-bottom-color: var(--fill-color);\n",
              "    }\n",
              "  }\n",
              "</style>\n",
              "\n",
              "  <script>\n",
              "    async function quickchart(key) {\n",
              "      const quickchartButtonEl =\n",
              "        document.querySelector('#' + key + ' button');\n",
              "      quickchartButtonEl.disabled = true;  // To prevent multiple clicks.\n",
              "      quickchartButtonEl.classList.add('colab-df-spinner');\n",
              "      try {\n",
              "        const charts = await google.colab.kernel.invokeFunction(\n",
              "            'suggestCharts', [key], {});\n",
              "      } catch (error) {\n",
              "        console.error('Error during call to suggestCharts:', error);\n",
              "      }\n",
              "      quickchartButtonEl.classList.remove('colab-df-spinner');\n",
              "      quickchartButtonEl.classList.add('colab-df-quickchart-complete');\n",
              "    }\n",
              "    (() => {\n",
              "      let quickchartButtonEl =\n",
              "        document.querySelector('#df-c3911ef7-e9fb-4313-b04d-626467135278 button');\n",
              "      quickchartButtonEl.style.display =\n",
              "        google.colab.kernel.accessAllowed ? 'block' : 'none';\n",
              "    })();\n",
              "  </script>\n",
              "</div>\n",
              "    </div>\n",
              "  </div>\n"
            ]
          },
          "metadata": {},
          "execution_count": 3
        }
      ],
      "source": [
        "import pandas as pd\n",
        "\n",
        "#Read the Tornados Data\n",
        "data = pd.read_csv('https://raw.githubusercontent.com/rfordatascience/tidytuesday/master/data/2023/2023-05-16/tornados.csv', header='infer')\n",
        "data"
      ]
    },
    {
      "cell_type": "markdown",
      "source": [
        "**Data Dictionary**\n",
        "\n",
        "---\n",
        "\n"
      ],
      "metadata": {
        "id": "Bsq-Kz6DWlVR"
      }
    },
    {
      "cell_type": "markdown",
      "source": [
        "| Variable | Class | Description |\n",
        "|---|---|---|\n",
        "|om           |integer   |Tornado number. Effectively an ID for this tornado in this year.|\n",
        "|yr           |integer   |Year, 1950-2022 |\n",
        "|mo           |integer   |Month, 1-12. |\n",
        "|dy           |integer   |Day of the month, 1-31. |\n",
        "|date         |date      |Date. |\n",
        "|time         |time      |Time. |\n",
        "|tz           |character |Canonical tz database timezone](https://en.wikipedia.org/wiki/List_of_tz_database_time_zones).|\n",
        "|datetime_utc |datetime  |Date and time normalized to UTC. |\n",
        "|st           |character |Two-letter postal abbreviation for the state (DC = Washington, DC; PR = Puerto Rico; VI = Virgin Islands). |\n",
        "|stf          |integer   |State FIPS (Federal Information Processing Standards) number. |\n",
        "|mag          |integer   |Magnitude on the F scale (EF beginning in 2007). Some of these values are estimated (see fc). |\n",
        "|inj          |integer   |Number of injuries. When summing for state totals, use sn == 1 (see below). |\n",
        "|fat          |integer   |Number of fatalities. When summing for state totals, use sn == 1 (see below). |\n",
        "|loss         |double    |Estimated property loss information in dollars. Prior to 1996, values were grouped into ranges. The reported number for such years is the maximum of its range. |\n",
        "|slat         |double    |Starting latitude in decimal degrees. |\n",
        "|slon         |double    |Starting longitude in decimal degrees. |\n",
        "|elat         |double    |Ending latitude in decimal degrees. |\n",
        "|elon         |double    |Ending longitude in decimal degrees. |\n",
        "|len          |double    |Length in miles. |\n",
        "|wid          |double    |Width in yards. |\n",
        "|ns           |integer   |Number of states affected by this tornado. 1, 2, or 3. |\n",
        "|sn           |integer   |State number for this row. 1 means the row contains the entire track information for this state, 0 means there is at least one more entry for this state for this tornado (om + yr). |\n",
        "|f1           |integer   |FIPS code for the 1st county. |\n",
        "|f2           |integer   |FIPS code for the 2nd county. |\n",
        "|f3           |integer   |FIPS code for the 3rd county. |\n",
        "|f4           |integer   |FIPS code for the 4th county. |\n",
        "|fc           |logical   |Was the mag column estimated? |"
      ],
      "metadata": {
        "id": "WcS7H8JhWqib"
      }
    },
    {
      "cell_type": "markdown",
      "source": [
        "###Illustrate how Linear Regression works"
      ],
      "metadata": {
        "id": "kjSfR-unSy8K"
      }
    },
    {
      "cell_type": "markdown",
      "source": [],
      "metadata": {
        "id": "uouHawlcTCzU"
      }
    },
    {
      "cell_type": "code",
      "source": [
        "import pandas as pd\n",
        "import matplotlib.pyplot as plt\n",
        "import seaborn as sns\n",
        "\n",
        "numInstances = len(data)  # number of data instances\n",
        "\n",
        "# Plot\n",
        "sns.regplot(x ='wid', y='fat', data = data, scatter_kws={'alpha':0.5})\n",
        "plt.title('Relationship between Width and Fatalities')\n",
        "plt.xlabel('Width')\n",
        "plt.ylabel('Fatalities')\n",
        "plt.show()"
      ],
      "metadata": {
        "id": "jPOoNyNQSxYq"
      },
      "execution_count": null,
      "outputs": []
    },
    {
      "cell_type": "markdown",
      "source": [
        "###Multiple Linear Regression"
      ],
      "metadata": {
        "id": "sz7VXVRdVxjg"
      }
    },
    {
      "cell_type": "markdown",
      "source": [
        "This section guides you through implementing Multiple Linear Regression (MLR) using Python's scikit-learn. With a focus on practicality, it explains the steps: splitting data into training and test sets, fitting MLR to training data, applying it to test data, and evaluating model performance. Postprocessing includes visualizing the fitted model for a comprehensive understanding."
      ],
      "metadata": {
        "id": "MOjuAvEeSf2U"
      }
    },
    {
      "cell_type": "code",
      "source": [
        "import pandas as pd\n",
        "import matplotlib.pyplot as plt\n",
        "import seaborn as sns\n",
        "\n",
        "numInstances = len(data)  # number of data instances\n",
        "\n",
        "# Plot\n",
        "sns.regplot(x ='wid', y='fat', data = data, scatter_kws={'alpha':0.5})\n",
        "plt.title('Relationship between Width and Fatalities')\n",
        "plt.xlabel('Width')\n",
        "plt.ylabel('Fatalities')\n",
        "plt.show()"
      ],
      "metadata": {
        "colab": {
          "base_uri": "https://localhost:8080/",
          "height": 472
        },
        "id": "ILC3Wsp6GEOZ",
        "outputId": "8b496487-7815-473e-f6cb-d71be4eb0f8e"
      },
      "execution_count": 53,
      "outputs": [
        {
          "output_type": "display_data",
          "data": {
            "text/plain": [
              "<Figure size 640x480 with 1 Axes>"
            ],
            "image/png": "[encoded data removed]"
          },
          "metadata": {}
        }
      ]
    },
    {
      "cell_type": "markdown",
      "source": [
        "This code, using Pandas, Matplotlib, and Seaborn, generates a scatter plot with a regression line to visualize the relationship between tornado width ('wid') and fatalities ('fat'). The transparency of points is adjusted for clarity, providing insights into the potential correlation between width and fatalities in tornado data."
      ],
      "metadata": {
        "id": "EOjwow6MUW7F"
      }
    },
    {
      "cell_type": "markdown",
      "source": [
        "####Step 1: Split Input Data into Training and Test Sets"
      ],
      "metadata": {
        "id": "1walfGOZKiM1"
      }
    },
    {
      "cell_type": "markdown",
      "source": [
        "\n",
        "In this data preprocessing step, the code removes missing values, calculates the total number of instances, and then splits the input data into training and test sets. The dataset is filtered based on tornado width ('wid') and fatalities ('fat'). The training set comprises 80% of the data, while the test set contains the remaining instances."
      ],
      "metadata": {
        "id": "lGi8BD_QVDq8"
      }
    },
    {
      "cell_type": "code",
      "source": [
        "data = data.dropna()\n",
        "numInstances = len(data)\n",
        "print(numInstances)"
      ],
      "metadata": {
        "colab": {
          "base_uri": "https://localhost:8080/"
        },
        "id": "WqRrcZtIKyu0",
        "outputId": "6c7c74b2-bf3b-4ee4-d8cb-78d77d55df72"
      },
      "execution_count": 54,
      "outputs": [
        {
          "output_type": "stream",
          "name": "stdout",
          "text": [
            "41517\n"
          ]
        }
      ]
    },
    {
      "cell_type": "code",
      "source": [
        "numTrain = 33213   # number of training instances which is 80% of the data for training\n",
        "numTest = numInstances - numTrain\n",
        "X = data[['wid']]\n",
        "y = data[['fat']]\n",
        "\n",
        "\n",
        "X_train = X[:-numTest]\n",
        "X_test = X[-numTest:]\n",
        "y_train = y[:-numTest]\n",
        "y_test = y[-numTest:]"
      ],
      "metadata": {
        "id": "PQFhDY3AHedR"
      },
      "execution_count": 55,
      "outputs": []
    },
    {
      "cell_type": "markdown",
      "source": [
        "####Step 2: Fit Regression Model to Training Set"
      ],
      "metadata": {
        "id": "2AVp6lVANpyu"
      }
    },
    {
      "cell_type": "markdown",
      "source": [
        "n this step, a linear regression model is trained on the provided training set using scikit-learn. The code initializes a linear regression object, and then fits the model to the training data, enabling it to learn the relationship between tornado width ('wid') and fatalities ('fat')."
      ],
      "metadata": {
        "id": "tcss_uOSVdCS"
      }
    },
    {
      "cell_type": "code",
      "source": [
        "from sklearn import linear_model\n",
        "from sklearn.metrics import mean_squared_error, r2_score\n",
        "\n",
        "# Create linear regression object\n",
        "regr = linear_model.LinearRegression()\n",
        "\n",
        "# Fit regression model to the training set\n",
        "regr.fit(X_train, y_train)"
      ],
      "metadata": {
        "id": "uG3-OXyQVvxy",
        "colab": {
          "base_uri": "https://localhost:8080/",
          "height": 74
        },
        "outputId": "eff72313-577f-4a36-9a97-b811d593d1cf"
      },
      "execution_count": 56,
      "outputs": [
        {
          "output_type": "execute_result",
          "data": {
            "text/plain": [
              "LinearRegression()"
            ],
            "text/html": [
              "<style>#sk-container-id-5 {color: black;background-color: white;}#sk-container-id-5 pre{padding: 0;}#sk-container-id-5 div.sk-toggleable {background-color: white;}#sk-container-id-5 label.sk-toggleable__label {cursor: pointer;display: block;width: 100%;margin-bottom: 0;padding: 0.3em;box-sizing: border-box;text-align: center;}#sk-container-id-5 label.sk-toggleable__label-arrow:before {content: \"▸\";float: left;margin-right: 0.25em;color: #696969;}#sk-container-id-5 label.sk-toggleable__label-arrow:hover:before {color: black;}#sk-container-id-5 div.sk-estimator:hover label.sk-toggleable__label-arrow:before {color: black;}#sk-container-id-5 div.sk-toggleable__content {max-height: 0;max-width: 0;overflow: hidden;text-align: left;background-color: #f0f8ff;}#sk-container-id-5 div.sk-toggleable__content pre {margin: 0.2em;color: black;border-radius: 0.25em;background-color: #f0f8ff;}#sk-container-id-5 input.sk-toggleable__control:checked~div.sk-toggleable__content {max-height: 200px;max-width: 100%;overflow: auto;}#sk-container-id-5 input.sk-toggleable__control:checked~label.sk-toggleable__label-arrow:before {content: \"▾\";}#sk-container-id-5 div.sk-estimator input.sk-toggleable__control:checked~label.sk-toggleable__label {background-color: #d4ebff;}#sk-container-id-5 div.sk-label input.sk-toggleable__control:checked~label.sk-toggleable__label {background-color: #d4ebff;}#sk-container-id-5 input.sk-hidden--visually {border: 0;clip: rect(1px 1px 1px 1px);clip: rect(1px, 1px, 1px, 1px);height: 1px;margin: -1px;overflow: hidden;padding: 0;position: absolute;width: 1px;}#sk-container-id-5 div.sk-estimator {font-family: monospace;background-color: #f0f8ff;border: 1px dotted black;border-radius: 0.25em;box-sizing: border-box;margin-bottom: 0.5em;}#sk-container-id-5 div.sk-estimator:hover {background-color: #d4ebff;}#sk-container-id-5 div.sk-parallel-item::after {content: \"\";width: 100%;border-bottom: 1px solid gray;flex-grow: 1;}#sk-container-id-5 div.sk-label:hover label.sk-toggleable__label {background-color: #d4ebff;}#sk-container-id-5 div.sk-serial::before {content: \"\";position: absolute;border-left: 1px solid gray;box-sizing: border-box;top: 0;bottom: 0;left: 50%;z-index: 0;}#sk-container-id-5 div.sk-serial {display: flex;flex-direction: column;align-items: center;background-color: white;padding-right: 0.2em;padding-left: 0.2em;position: relative;}#sk-container-id-5 div.sk-item {position: relative;z-index: 1;}#sk-container-id-5 div.sk-parallel {display: flex;align-items: stretch;justify-content: center;background-color: white;position: relative;}#sk-container-id-5 div.sk-item::before, #sk-container-id-5 div.sk-parallel-item::before {content: \"\";position: absolute;border-left: 1px solid gray;box-sizing: border-box;top: 0;bottom: 0;left: 50%;z-index: -1;}#sk-container-id-5 div.sk-parallel-item {display: flex;flex-direction: column;z-index: 1;position: relative;background-color: white;}#sk-container-id-5 div.sk-parallel-item:first-child::after {align-self: flex-end;width: 50%;}#sk-container-id-5 div.sk-parallel-item:last-child::after {align-self: flex-start;width: 50%;}#sk-container-id-5 div.sk-parallel-item:only-child::after {width: 0;}#sk-container-id-5 div.sk-dashed-wrapped {border: 1px dashed gray;margin: 0 0.4em 0.5em 0.4em;box-sizing: border-box;padding-bottom: 0.4em;background-color: white;}#sk-container-id-5 div.sk-label label {font-family: monospace;font-weight: bold;display: inline-block;line-height: 1.2em;}#sk-container-id-5 div.sk-label-container {text-align: center;}#sk-container-id-5 div.sk-container {/* jupyter's `normalize.less` sets `[hidden] { display: none; }` but bootstrap.min.css set `[hidden] { display: none !important; }` so we also need the `!important` here to be able to override the default hidden behavior on the sphinx rendered scikit-learn.org. See: https://github.com/scikit-learn/scikit-learn/issues/21755 */display: inline-block !important;position: relative;}#sk-container-id-5 div.sk-text-repr-fallback {display: none;}</style><div id=\"sk-container-id-5\" class=\"sk-top-container\"><div class=\"sk-text-repr-fallback\"><pre>LinearRegression()</pre><b>In a Jupyter environment, please rerun this cell to show the HTML representation or trust the notebook. <br />On GitHub, the HTML representation is unable to render, please try loading this page with nbviewer.org.</b></div><div class=\"sk-container\" hidden><div class=\"sk-item\"><div class=\"sk-estimator sk-toggleable\"><input class=\"sk-toggleable__control sk-hidden--visually\" id=\"sk-estimator-id-5\" type=\"checkbox\" checked><label for=\"sk-estimator-id-5\" class=\"sk-toggleable__label sk-toggleable__label-arrow\">LinearRegression</label><div class=\"sk-toggleable__content\"><pre>LinearRegression()</pre></div></div></div></div></div>"
            ]
          },
          "metadata": {},
          "execution_count": 56
        }
      ]
    },
    {
      "cell_type": "markdown",
      "source": [
        "####Step 3: Apply Model to the Test Set"
      ],
      "metadata": {
        "id": "7aWaoFlwNzXY"
      }
    },
    {
      "cell_type": "markdown",
      "source": [
        "\n",
        "In the third step, the trained linear regression model is applied to the test set. Using the features from the test set (tornado width), the model predicts the corresponding fatalities. This step evaluates the model's generalization performance on unseen data, generating predicted values for comparison with the actual test set outcomes."
      ],
      "metadata": {
        "id": "OtbMmMsGVnlq"
      }
    },
    {
      "cell_type": "code",
      "source": [
        "# Apply model to the test set\n",
        "y_pred_test = regr.predict(X_test)"
      ],
      "metadata": {
        "id": "Q_UU_v7ON2xT"
      },
      "execution_count": 57,
      "outputs": []
    },
    {
      "cell_type": "markdown",
      "source": [
        "####Step 4: Evaluate Model Performance on Test Set"
      ],
      "metadata": {
        "id": "lwPNOAfnN5xN"
      }
    },
    {
      "cell_type": "markdown",
      "source": [
        "\n",
        "In the fourth step, the performance of the linear regression model is evaluated on the test set. A scatter plot visually compares true and predicted fatalities, while metrics like root mean squared error and R-squared provide quantitative measures of the model's accuracy and goodness of fit, respectively."
      ],
      "metadata": {
        "id": "J53Fyg7LVz47"
      }
    },
    {
      "cell_type": "code",
      "source": [
        "import numpy as np\n",
        "# Comparing true versus predicted values\n",
        "plt.scatter(y_test, y_pred_test, color='black')\n",
        "plt.title('Comparing true and predicted values for test set')\n",
        "plt.xlabel('True values for y')\n",
        "plt.ylabel('Predicted values for y')\n",
        "\n",
        "# Model evaluation\n",
        "print(\"Root mean squared error = %.4f\" % np.sqrt(mean_squared_error(y_test, y_pred_test)))"
      ],
      "metadata": {
        "colab": {
          "base_uri": "https://localhost:8080/",
          "height": 489
        },
        "id": "3zPwkykyN5ZS",
        "outputId": "909f8e98-d5cd-42da-8e76-d79ee7a65337"
      },
      "execution_count": 58,
      "outputs": [
        {
          "output_type": "stream",
          "name": "stdout",
          "text": [
            "Root mean squared error = 2.2485\n"
          ]
        },
        {
          "output_type": "display_data",
          "data": {
            "text/plain": [
              "<Figure size 640x480 with 1 Axes>"
            ],
            "image/png": "[encoded data removed]"
          },
          "metadata": {}
        }
      ]
    },
    {
      "cell_type": "markdown",
      "source": [
        "The plot depicts a comparing actual and predicted values in the test set, revealing a root mean squared error of 2.2485. The y-axis spans from 0 to 160, while the x-axis ranges from 0 to 7. Notably, a few outliers emerge beyond 40 on the y-axis."
      ],
      "metadata": {
        "id": "qatpeH9jWlKx"
      }
    },
    {
      "cell_type": "code",
      "source": [
        "print('R-squared = %.4f' % r2_score(y_test, y_pred_test))"
      ],
      "metadata": {
        "colab": {
          "base_uri": "https://localhost:8080/"
        },
        "id": "nMxZfBJtN-Hk",
        "outputId": "4ccab6b3-8697-4c95-8155-019ad82d9355"
      },
      "execution_count": 59,
      "outputs": [
        {
          "output_type": "stream",
          "name": "stdout",
          "text": [
            "R-squared = 0.0396\n"
          ]
        }
      ]
    },
    {
      "cell_type": "markdown",
      "source": [
        "Step 5: Postprocessing"
      ],
      "metadata": {
        "id": "6erB6PIwOBPd"
      }
    },
    {
      "cell_type": "markdown",
      "source": [
        "In the final step, postprocessing involves displaying the parameters of the trained linear regression model. The code prints the slope and intercept values, essential components of the regression equation. Additionally, a scatter plot with the predicted function visualizes the model's performance, providing insights into the relationship between tornado width and fatalities."
      ],
      "metadata": {
        "id": "4KQQjWC8WMuZ"
      }
    },
    {
      "cell_type": "code",
      "source": [
        "# Display model parameters\n",
        "print('Slope = ', regr.coef_[0][0])"
      ],
      "metadata": {
        "colab": {
          "base_uri": "https://localhost:8080/"
        },
        "id": "Nx84ouGVOA-f",
        "outputId": "c4fb041e-f13d-45b6-ba27-9d546d5ef52b"
      },
      "execution_count": 60,
      "outputs": [
        {
          "output_type": "stream",
          "name": "stdout",
          "text": [
            "Slope =  0.0014475691781841713\n"
          ]
        }
      ]
    },
    {
      "cell_type": "code",
      "source": [
        "print('Intercept = ', regr.intercept_[0])### Step 4: Postprocessing"
      ],
      "metadata": {
        "colab": {
          "base_uri": "https://localhost:8080/"
        },
        "id": "32vnrQeOOECP",
        "outputId": "6b59cd5c-336b-457e-f72f-9d6411540d60"
      },
      "execution_count": 51,
      "outputs": [
        {
          "output_type": "stream",
          "name": "stdout",
          "text": [
            "Intercept =  -171429.9123604854\n"
          ]
        }
      ]
    },
    {
      "cell_type": "code",
      "source": [
        "# Plot outputs\n",
        "plt.scatter(X_test, y_test,  color='black')\n",
        "plt.plot(X_test, y_pred_test, color='blue', linewidth=3)\n",
        "titlestr = 'Predicted Function: y = %.2fX + %.2f' % (regr.coef_[0], regr.intercept_[0])\n",
        "plt.title(titlestr)\n",
        "plt.xlabel('X')\n",
        "plt.ylabel('y')"
      ],
      "metadata": {
        "colab": {
          "base_uri": "https://localhost:8080/",
          "height": 489
        },
        "id": "qf9rL9nvOFZ_",
        "outputId": "c0d59674-16d9-4985-e2b4-216749a2b430"
      },
      "execution_count": 61,
      "outputs": [
        {
          "output_type": "execute_result",
          "data": {
            "text/plain": [
              "Text(0, 0.5, 'y')"
            ]
          },
          "metadata": {},
          "execution_count": 61
        },
        {
          "output_type": "display_data",
          "data": {
            "text/plain": [
              "<Figure size 640x480 with 1 Axes>"
            ],
            "image/png": "[encoded data removed]"
          },
          "metadata": {}
        }
      ]
    },
    {
      "cell_type": "markdown",
      "source": [
        "\n",
        "This code generates a visual representation of the model's predictions on the test set. It creates a scatter plot with actual data points in black and overlays a blue line representing the predicted function(y=0.00X + -0.02) generated by the linear regression model. The title and axis labels provide context and insights into the relationship between the input feature (X) and the predicted output (y)."
      ],
      "metadata": {
        "id": "lBcOJUbHYFL2"
      }
    }
  ]
}